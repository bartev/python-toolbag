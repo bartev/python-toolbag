{
 "cells": [
  {
   "cell_type": "markdown",
   "metadata": {},
   "source": [
    "https://realpython.com/simpy-simulating-with-python/"
   ]
  },
  {
   "cell_type": "code",
   "execution_count": 1,
   "metadata": {},
   "outputs": [],
   "source": [
    "%load_ext blackcellmagic\n",
    "%load_ext autoreload"
   ]
  },
  {
   "cell_type": "code",
   "execution_count": 2,
   "metadata": {},
   "outputs": [],
   "source": [
    "import simpy\n",
    "import random\n",
    "import statistics"
   ]
  },
  {
   "cell_type": "code",
   "execution_count": 3,
   "metadata": {},
   "outputs": [],
   "source": [
    "from importlib import reload"
   ]
  },
  {
   "cell_type": "code",
   "execution_count": 4,
   "metadata": {},
   "outputs": [],
   "source": [
    "from src.sim_ex import Theater"
   ]
  },
  {
   "cell_type": "markdown",
   "metadata": {},
   "source": [
    "# Simple example"
   ]
  },
  {
   "cell_type": "markdown",
   "metadata": {},
   "source": [
    "To recap, here are the three steps to running a simulation in Python:\n",
    "\n",
    "1. Establish the environment.\n",
    "2. Pass in the parameters.\n",
    "3. Run the simulation.\n"
   ]
  },
  {
   "cell_type": "code",
   "execution_count": 5,
   "metadata": {},
   "outputs": [],
   "source": [
    "# total amount of time each moviegoer spends moving through the theater\n",
    "wait_times = []\n"
   ]
  },
  {
   "cell_type": "code",
   "execution_count": 6,
   "metadata": {},
   "outputs": [],
   "source": [
    "def go_to_movies(env, moviegoer, theater):\n",
    "    \"\"\"Moviegoer arrives at the theater\n",
    "\n",
    "    :param env: moviegoer is controlled by the environment\n",
    "    :param moviegoer: each person as they move through the system\n",
    "    :param theater: get access to the params defined in Theater\n",
    "\n",
    "    \"\"\"\n",
    "    arrival_time = env.now\n",
    "\n",
    "    # generate a request to use a cashier\n",
    "    # use a `with` statement to automatically release the resource\n",
    "    with theater.cashier.request() as request:\n",
    "        # wait for cashier to become available\n",
    "        yield request\n",
    "        # Use an available cashier to purchase a ticket\n",
    "        yield env.process(theater.purchase_ticket(moviegoer))\n",
    "\n",
    "\n",
    "    with theater.usher.request() as request:\n",
    "        yield request\n",
    "        yield env.process(theater.check_ticket(moviegoer))\n",
    "\n",
    "    if random.choice([True, False]):\n",
    "        with theater.server.request() as request:\n",
    "            yield request\n",
    "            yield env.process(theater.sell_food(moviegoer))\n",
    "\n",
    "    wait_times.append(env.now - arrival_time)\n",
    "    "
   ]
  },
  {
   "cell_type": "code",
   "execution_count": 7,
   "metadata": {},
   "outputs": [],
   "source": [
    "\n",
    "def run_theater(env, num_cashiers, num_servers, num_ushers):\n",
    "    theater = Theater(env, num_cashiers, num_servers, num_ushers)\n",
    "\n",
    "    for moviegoer in range(3):\n",
    "        env.process(go_to_movies(env, moviegoer, theater))\n",
    "\n",
    "    while True:\n",
    "        # 0.20 = 1/5 of a min, or 12 sec\n",
    "        yield env.timeout(0.20) # Wait a bit before generating a new person\n",
    "\n",
    "        moviegoer += 1\n",
    "        env.process(go_to_movies(env, moviegoer, theater))\n",
    "        "
   ]
  },
  {
   "cell_type": "code",
   "execution_count": 10,
   "metadata": {},
   "outputs": [],
   "source": [
    "def get_average_wait_time(wait_times):\n",
    "    average_wait = statistics.mean(wait_times)\n",
    "    minutes, frac_minutes = divmod(average_wait, 1)\n",
    "    seconds = frac_minutes * 60\n",
    "    return round(minutes), round(seconds)\n",
    "\n",
    "\n",
    "def calculate_wait_time(arrival_times, departure_times):\n",
    "    # wait_times = departure_times - arrival_times\n",
    "    average_wait = statistics.mean(wait_times)\n",
    "    # pretty print results\n",
    "    minutes, frac_minutes = divmod(average_wait, 1)\n",
    "    seconds = frac_minutes * 60\n",
    "    return round(minutes), round(seconds)\n",
    "\n",
    "\n",
    "def get_user_input():\n",
    "    num_cashiers = input(\"# of cashiers: \")\n",
    "    num_servers = input(\"# of servers: \")\n",
    "    num_ushers = input(\"# of ushers: \")\n",
    "    params = [num_cashiers, num_servers, num_ushers]\n",
    "    if all(str(i).isdigit() for i in params):\n",
    "        params = [int(x) for x in params]\n",
    "    else:\n",
    "        print(\"\"\"Could not parse input. The sim will use default values of 1\"\"\")\n",
    "        params = [1, 1, 1]\n",
    "    return params\n",
    "\n",
    "def main():\n",
    "    # setup\n",
    "    random.seed(42)\n",
    "    num_cashiers, num_servers, num_ushers = get_user_input()\n",
    "\n",
    "    # run the sim\n",
    "    env = simpy.Environment()\n",
    "    env.process(run_theater(env, num_cashiers, num_servers, num_ushers))\n",
    "    env.run(until=90)\n",
    "\n",
    "    # view the results\n",
    "    mins, secs = get_average_wait_time(wait_times)\n",
    "    print(\n",
    "      \"Running simulation...\",\n",
    "      f\"\\nThe average wait time is {mins} minutes and {secs} seconds.\",\n",
    "    )\n"
   ]
  },
  {
   "cell_type": "code",
   "execution_count": 28,
   "metadata": {},
   "outputs": [
    {
     "name": "stdout",
     "output_type": "stream",
     "text": [
      "# of cashiers: 100\n",
      "# of servers: 100\n",
      "# of ushers: 100\n",
      "Running simulation... \n",
      "The average wait time is 14 minutes and 18 seconds.\n"
     ]
    }
   ],
   "source": [
    "main()"
   ]
  },
  {
   "cell_type": "code",
   "execution_count": null,
   "metadata": {},
   "outputs": [],
   "source": []
  }
 ],
 "metadata": {
  "kernelspec": {
   "display_name": "Python 3 (ipykernel)",
   "language": "python",
   "name": "python3"
  },
  "language_info": {
   "codemirror_mode": {
    "name": "ipython",
    "version": 3
   },
   "file_extension": ".py",
   "mimetype": "text/x-python",
   "name": "python",
   "nbconvert_exporter": "python",
   "pygments_lexer": "ipython3",
   "version": "3.7.7"
  },
  "toc": {
   "base_numbering": 1,
   "nav_menu": {},
   "number_sections": true,
   "sideBar": true,
   "skip_h1_title": false,
   "title_cell": "Table of Contents",
   "title_sidebar": "Contents",
   "toc_cell": false,
   "toc_position": {},
   "toc_section_display": true,
   "toc_window_display": false
  },
  "varInspector": {
   "cols": {
    "lenName": 16,
    "lenType": 16,
    "lenVar": 40
   },
   "kernels_config": {
    "python": {
     "delete_cmd_postfix": "",
     "delete_cmd_prefix": "del ",
     "library": "var_list.py",
     "varRefreshCmd": "print(var_dic_list())"
    },
    "r": {
     "delete_cmd_postfix": ") ",
     "delete_cmd_prefix": "rm(",
     "library": "var_list.r",
     "varRefreshCmd": "cat(var_dic_list()) "
    }
   },
   "types_to_exclude": [
    "module",
    "function",
    "builtin_function_or_method",
    "instance",
    "_Feature"
   ],
   "window_display": false
  }
 },
 "nbformat": 4,
 "nbformat_minor": 4
}
