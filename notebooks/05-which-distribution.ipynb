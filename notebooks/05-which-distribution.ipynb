{
 "cells": [
  {
   "cell_type": "markdown",
   "id": "f3f27f0a",
   "metadata": {},
   "source": [
    "# Seven must know statisticl distributions and their simulations for data science"
   ]
  },
  {
   "cell_type": "markdown",
   "id": "d00f3057",
   "metadata": {},
   "source": [
    "https://towardsdatascience.com/seven-must-know-statistical-distributions-and-their-simulations-for-data-science-681c5ac41e32"
   ]
  },
  {
   "cell_type": "code",
   "execution_count": 1,
   "id": "3cdd74da",
   "metadata": {},
   "outputs": [],
   "source": [
    "import numpy as np\n",
    "import matplotlib as mpl\n",
    "import matplotlib.pyplot as plt\n",
    "%matplotlib inline"
   ]
  },
  {
   "cell_type": "code",
   "execution_count": 2,
   "id": "6fd32761",
   "metadata": {},
   "outputs": [],
   "source": [
    "%load_ext blackcellmagic\n",
    "# start cell with `%%black` to format using `black`\n",
    "\n",
    "%load_ext autoreload\n"
   ]
  },
  {
   "cell_type": "markdown",
   "id": "f35bf4f6",
   "metadata": {},
   "source": [
    "# Bernoulli Distribution"
   ]
  },
  {
   "cell_type": "markdown",
   "id": "13386381",
   "metadata": {},
   "source": [
    "1. Only 2 outcomes\n",
    "2. Only one trial"
   ]
  },
  {
   "cell_type": "markdown",
   "id": "cfc27edc",
   "metadata": {},
   "source": [
    "PMF (probability mass function) of a r.v. x that follows the Bernoulli distribution is\n",
    "\n",
    "\\begin{equation}\n",
    "  f(x) = \\begin{cases}\n",
    "    p,     & x = success \\\\\n",
    "    1 - p, & x = failure\n",
    "   \\end{cases}\n",
    "\\end{equation}"
   ]
  },
  {
   "cell_type": "code",
   "execution_count": 9,
   "id": "e8b832c5",
   "metadata": {},
   "outputs": [
    {
     "data": {
      "text/plain": [
       "'success'"
      ]
     },
     "execution_count": 9,
     "metadata": {},
     "output_type": "execute_result"
    }
   ],
   "source": [
    "# success and failure probabilities are different\n",
    "np.random.choice(['success', 'failure'], p=(0.8, 0.2))"
   ]
  },
  {
   "cell_type": "markdown",
   "id": "ba1174f2",
   "metadata": {},
   "source": [
    "# Binomial distribution"
   ]
  },
  {
   "cell_type": "markdown",
   "id": "69403f37",
   "metadata": {},
   "source": [
    "Describe r.v. $x$ as the number of success in $n$ Bernoulli trials.\n",
    "\n",
    "* The outcome distribution of $n$ identical Bernoulli distributed r.v.'s"
   ]
  },
  {
   "cell_type": "markdown",
   "id": "d2cbf6d1",
   "metadata": {},
   "source": [
    "Assumptions\n",
    "\n",
    "1. each trial only has two outcomes (like tossing a coin);\n",
    "2. there are n identical trials in total (tossing the same coin for n times);\n",
    "3. each trial is independent of other trials (getting “Head” at the first trial wouldn’t affect the chance of getting “Head” at the second trial);\n",
    "4. p, and 1-p are the same for all trials (the chance of getting “Head” is the same across all trials);\n"
   ]
  },
  {
   "cell_type": "markdown",
   "id": "e9df7b75",
   "metadata": {},
   "source": [
    "Two parameters - $p$, probability of success, and $n$, the number of trials.\n",
    "\n",
    "\\begin{equation}\n",
    "f(x) = \\begin{cases}\n",
    "    \\frac{n!}{x!(n - x)!}  p^x (1 - p)^{n - x}, & x = 0, 1, 2, ..., n\\\\\n",
    "    0, & \\text{otherwise}\n",
    "    \\end{cases}\n",
    "\\end{equation}\n",
    "\n",
    "\\begin{align}\n",
    "E(x) &= np \\\\\n",
    "Var(x) &= np(1-p)\n",
    "\\end{align}"
   ]
  },
  {
   "cell_type": "code",
   "execution_count": 16,
   "id": "4d0b650a",
   "metadata": {},
   "outputs": [
    {
     "data": {
      "image/png": "[encoded data removed]",
      "text/plain": [
       "<Figure size 432x288 with 1 Axes>"
      ]
     },
     "metadata": {
      "needs_background": "light"
     },
     "output_type": "display_data"
    }
   ],
   "source": [
    "n = 100\n",
    "p = 0.5\n",
    "size = 1000\n",
    "\n",
    "binomial = np.random.binomial(n, p, size)\n",
    "plt.hist(binomial, width=3)\n",
    "plt.show()"
   ]
  },
  {
   "cell_type": "markdown",
   "id": "20b919cd",
   "metadata": {},
   "source": [
    "If $n = 1$, we get the Bernoulli distribution"
   ]
  },
  {
   "cell_type": "code",
   "execution_count": 18,
   "id": "8350b95f",
   "metadata": {},
   "outputs": [
    {
     "data": {
      "image/png": "[encoded data removed]",
      "text/plain": [
       "<Figure size 432x288 with 1 Axes>"
      ]
     },
     "metadata": {
      "needs_background": "light"
     },
     "output_type": "display_data"
    }
   ],
   "source": [
    "n = 1\n",
    "p = 0.5\n",
    "size = 1000\n",
    "\n",
    "bernoulli = np.random.binomial(n, p, size)\n",
    "plt.hist(bernoulli)\n",
    "plt.show()"
   ]
  },
  {
   "cell_type": "markdown",
   "id": "55d16a28",
   "metadata": {},
   "source": [
    "# Geometric distribution"
   ]
  },
  {
   "cell_type": "markdown",
   "id": "453c483b",
   "metadata": {},
   "source": [
    "Models the number of failures ($x$ failures) before the first success in repeated, independent, Bernoulli trials.\n",
    "\n",
    "E.g., how many \"tails\" before you get a \"heads\".\n",
    "\n",
    "\n",
    "Or, number of trials to get the first success (x - 1 failures)\n",
    "\n",
    "Same assumptions as Binomial distribution"
   ]
  },
  {
   "cell_type": "markdown",
   "id": "e333c6f8",
   "metadata": {},
   "source": [
    "PMF when the random variable $x# is the number of *failures* before the first success.\n",
    "\n",
    "\\begin{align}\n",
    "    f(x) &= \\begin{cases}\n",
    "    p (1 - p)^x, & x = 0, 1, 2, ... \\\\\n",
    "    0, & \\text{otherwise}\n",
    "    \\end{cases} \\\\\n",
    "    E(x) &= \\frac{1 - p}{p} \\\\\n",
    "    Var(x) &= \\frac{1 - p}{p^2}\n",
    "\\end{align}\n"
   ]
  },
  {
   "cell_type": "markdown",
   "id": "463a6cb7",
   "metadata": {},
   "source": [
    "PMF when the random variable $x# is the number of trials to get the first success.\n",
    "\n",
    "\\begin{align}\n",
    "    f(x) &= \\begin{cases}\n",
    "    p (1 - p)^{x - 1}, & x = 0, 1, 2, ... \\\\\n",
    "    0, & \\text{otherwise}\n",
    "    \\end{cases} \\\\\n",
    "    E(x) &= \\frac{1}{p} \\\\\n",
    "    Var(x) &= \\frac{1 - p}{p^2}\n",
    "\\end{align}\n"
   ]
  },
  {
   "cell_type": "markdown",
   "id": "5bd99e61",
   "metadata": {},
   "source": [
    "Use Bernoulli trials to simulate the Geometric distribution.\n",
    "\n",
    "Count thenumber of failures before the first success.\n",
    "\n",
    "Plot number of failures.\n"
   ]
  },
  {
   "cell_type": "code",
   "execution_count": 24,
   "id": "cb483162",
   "metadata": {},
   "outputs": [
    {
     "data": {
      "image/png": "[encoded data removed]",
      "text/plain": [
       "<Figure size 432x288 with 1 Axes>"
      ]
     },
     "metadata": {
      "needs_background": "light"
     },
     "output_type": "display_data"
    }
   ],
   "source": [
    "geometric = []\n",
    "failure = 0\n",
    "n = 0\n",
    "p = 0.5\n",
    "while n < 10000:\n",
    "    result = np.random.choice([\"success\", \"failure\"], p=(p, 1 - p))\n",
    "    if result == \"failure\":\n",
    "        failure += 1\n",
    "    else:\n",
    "        geometric.append(failure)\n",
    "        failure = 0\n",
    "        n += 1\n",
    "plt.hist(geometric)\n",
    "plt.axvline(np.mean(geometric), color=\"red\")\n",
    "plt.show()"
   ]
  },
  {
   "cell_type": "markdown",
   "id": "5fe8c5d2",
   "metadata": {},
   "source": [
    "# Uniform distribution"
   ]
  },
  {
   "cell_type": "markdown",
   "id": "89218835",
   "metadata": {},
   "source": [
    "A random variable whose outcomes are all equally likely to occur.\n",
    "\n",
    "Assumptions\n",
    "\n",
    "1. There are $n$ outcomes (discrete) or a range for the outcomes to be in (continuous)\n",
    "2. All values in the outcome set are equally likely"
   ]
  },
  {
   "cell_type": "markdown",
   "id": "55214b16",
   "metadata": {},
   "source": [
    "PDF (probability density function)\n",
    "\n",
    "\\begin{align}\n",
    "f(x) = \\begin{cases}\n",
    "    \\frac{1}{b - a}, & x \\in [a, b]\\\\\n",
    "    0, & \\text{otherwise}\n",
    "    \\end{cases}\n",
    "\\end{align}\n",
    "\n",
    "\\begin{align}\n",
    "E(x) &= \\frac{a + b}{2} \\\\\n",
    "Var(x) &= \\frac{(a - b)^2}{12}\n",
    "\\end{align}"
   ]
  },
  {
   "cell_type": "markdown",
   "id": "275b8454",
   "metadata": {},
   "source": [
    "To simulate, use `np.random.uniform`"
   ]
  },
  {
   "cell_type": "code",
   "execution_count": 25,
   "id": "70b64156",
   "metadata": {},
   "outputs": [
    {
     "data": {
      "text/plain": [
       "array([0.27368113, 0.13554894, 0.30092076, 0.07108363, 0.55337605,\n",
       "       0.98350085, 0.77157597, 0.74145165, 0.47281197, 0.35733462])"
      ]
     },
     "execution_count": 25,
     "metadata": {},
     "output_type": "execute_result"
    }
   ],
   "source": [
    "# generate a r.v. that follows U(0, 1)\n",
    "np.random.uniform(0, 1, size=10)"
   ]
  },
  {
   "cell_type": "code",
   "execution_count": 30,
   "id": "86684c2e",
   "metadata": {},
   "outputs": [
    {
     "data": {
      "text/plain": [
       "(array([1037., 1047.,  983., 1009., 1004.,  954., 1016.,  970.,  994.,\n",
       "         986.]),\n",
       " array([2.00003766, 2.10002146, 2.20000526, 2.29998906, 2.39997286,\n",
       "        2.49995666, 2.59994046, 2.69992426, 2.79990806, 2.89989186,\n",
       "        2.99987565]),\n",
       " <BarContainer object of 10 artists>)"
      ]
     },
     "execution_count": 30,
     "metadata": {},
     "output_type": "execute_result"
    },
    {
     "data": {
      "image/png": "[encoded data removed]",
      "text/plain": [
       "<Figure size 432x288 with 1 Axes>"
      ]
     },
     "metadata": {
      "needs_background": "light"
     },
     "output_type": "display_data"
    }
   ],
   "source": [
    "# Use U(0, 1) to generate U(a, b)\n",
    "def unif(a, b):\n",
    "    return a + (b - a) * np.random.uniform(0, 1, size=10000)\n",
    "\n",
    "unis = unif(2, 3)\n",
    "plt.hist(unis, width=0.09)"
   ]
  },
  {
   "cell_type": "markdown",
   "id": "492bd182",
   "metadata": {},
   "source": [
    "# Normal distribution"
   ]
  },
  {
   "cell_type": "markdown",
   "id": "ee2dfd1e",
   "metadata": {},
   "source": [
    "1. mean = mode = median\n",
    "2. PDF is bell-shaped, symmetric at $x = \\mu$"
   ]
  },
  {
   "cell_type": "markdown",
   "id": "b0bf2a8d",
   "metadata": {},
   "source": [
    "\\begin{align}\n",
    "f(x) &= \\frac{1}{\\sigma \\sqrt{2 \\pi}} e^{-\\frac{1}{2}(\\frac{x - \\mu}{\\sigma})^2}\n",
    "\\end{align}"
   ]
  },
  {
   "cell_type": "markdown",
   "id": "bc3ca660",
   "metadata": {},
   "source": [
    "To simulate, use `np.random.normal(mu, sigma, size)`"
   ]
  },
  {
   "cell_type": "code",
   "execution_count": 35,
   "id": "d1e01c06",
   "metadata": {},
   "outputs": [
    {
     "data": {
      "text/plain": [
       "array([-0.08159239,  0.89518952,  0.13629034,  0.29251134, -0.2879752 ,\n",
       "        0.10696408, -0.45187683, -0.37286122, -1.85217751,  0.64977182])"
      ]
     },
     "execution_count": 35,
     "metadata": {},
     "output_type": "execute_result"
    }
   ],
   "source": [
    "np.random.normal(0, 1, 10)"
   ]
  },
  {
   "cell_type": "markdown",
   "id": "18bd86f1",
   "metadata": {},
   "source": [
    "Or, use the Central limit theorem to simulate the normal distribution"
   ]
  },
  {
   "cell_type": "code",
   "execution_count": 44,
   "id": "fcb631da",
   "metadata": {},
   "outputs": [
    {
     "data": {
      "image/png": "[encoded data removed]",
      "text/plain": [
       "<Figure size 432x288 with 1 Axes>"
      ]
     },
     "metadata": {
      "needs_background": "light"
     },
     "output_type": "display_data"
    }
   ],
   "source": [
    "def clm(N, n):\n",
    "    # generate a sample from any random population N\n",
    "    xs = np.random.random(size=N)\n",
    "    means = []\n",
    "\n",
    "    # Take a random sub sample with size n from N\n",
    "    for _ in range(n):\n",
    "        idx = np.random.randint(0, N, n)\n",
    "        means.append(xs[idx].mean())\n",
    "        \n",
    "    return plt.hist(means, bins=50)\n",
    "\n",
    "clm(100000, 1000);"
   ]
  },
  {
   "cell_type": "markdown",
   "id": "2cbf1def",
   "metadata": {},
   "source": [
    "# Poisson distribution"
   ]
  },
  {
   "cell_type": "markdown",
   "id": "e3c858ee",
   "metadata": {},
   "source": [
    "Model the probability of a number of events occurring in a fixed interval of time or space.\n",
    "\n",
    "E.g. the number of customers arriving in a store in an hour.\n",
    "\n",
    "Related to the binomial distribution if you measure the number of event occurrences as the number of successes.\n",
    "For example, when measuring how many cars will pass a particular street in an hour, \n",
    "the number of cars passing is a random variable that follows Poisson distribution"
   ]
  },
  {
   "cell_type": "markdown",
   "id": "3183cac2",
   "metadata": {},
   "source": [
    "Assumptions\n",
    "\n",
    "1. any successful event should not influence the outcome of other successful events (observing one car at the first second doesn’t affect the chance of observing another car the next second);\n",
    "2. the probability of success p, is the same across all intervals (there is no difference between this hour with other hours to observe cars passing by);\n",
    "3. the probability of success p in an interval goes to zero as the interval gets smaller (if we are discussing how many cars will pass in a millisecond, the probability is close to zero because the time is too short);\n"
   ]
  },
  {
   "cell_type": "markdown",
   "id": "78c8ca14",
   "metadata": {},
   "source": [
    "PMF (derived from PMF of binomial distribution)\n",
    "\n",
    "\\begin{equation}\n",
    "f(x) = \\begin{cases}\n",
    "    \\frac{\\lambda^x}{x!} e^{-\\lambda}, & x = 0, 1, 2, ... \\\\\n",
    "    0, & \\text{otherwise}\n",
    "    \\end{cases}\n",
    "\\end{equation}\n",
    "\n",
    "Defne\n",
    "\n",
    "\\begin{align}\n",
    "\\lambda &= E(x) = np \\quad \\text{avg num of sucess in n Bernoulli trials}\\\\\n",
    "p &= \\frac{\\lambda}{n} \\quad \\text{success probability}\\\\\n",
    "E(x) &= Var(x) = \\lambda\n",
    "\\end{align}"
   ]
  },
  {
   "cell_type": "markdown",
   "id": "e3a0bf9d",
   "metadata": {},
   "source": [
    "To simulate, use `np.random.poisson`"
   ]
  },
  {
   "cell_type": "code",
   "execution_count": 55,
   "id": "e631960b",
   "metadata": {},
   "outputs": [
    {
     "data": {
      "text/plain": [
       "<matplotlib.lines.Line2D at 0x7fc635ef7d90>"
      ]
     },
     "execution_count": 55,
     "metadata": {},
     "output_type": "execute_result"
    },
    {
     "data": {
      "image/png": "[encoded data removed]",
      "text/plain": [
       "<Figure size 432x288 with 1 Axes>"
      ]
     },
     "metadata": {
      "needs_background": "light"
     },
     "output_type": "display_data"
    }
   ],
   "source": [
    "lam = 1\n",
    "poi = np.random.poisson(lam=lam, size=1000)\n",
    "plt.hist(poi, bins=max(poi), width=0.9)\n",
    "plt.axvline(x=lam, c='red')"
   ]
  },
  {
   "cell_type": "markdown",
   "id": "f394cb9e",
   "metadata": {
    "heading_collapsed": true
   },
   "source": [
    "# Exponential distribution"
   ]
  },
  {
   "cell_type": "markdown",
   "id": "f9e08db2",
   "metadata": {
    "hidden": true
   },
   "source": [
    "Closely related to the Poisson distribution. It is the probability distribution of the time intervals between Poisson events.\n",
    "\n",
    "If the number of calls a company received in an hour follows Poisson distribution, then the time interval between calls follows Exponential distribution."
   ]
  },
  {
   "cell_type": "markdown",
   "id": "d0fae64a",
   "metadata": {
    "hidden": true
   },
   "source": [
    "CDF\n",
    "\n",
    "\\begin{align}\n",
    "P(W \\le \\omega) &= 1 - P(W \\ge \\omega)\\\\\n",
    "  &= 1 - e^{-\\lambda \\omega}\n",
    "\\end{align}\n",
    "\n",
    "\n",
    "PDF (take derivative of the CDF)\n",
    "\n",
    "\\begin{align}\n",
    "f(\\omega) = \\lambda e^{-\\lambda \\omega}\n",
    "\\end{align}"
   ]
  },
  {
   "cell_type": "markdown",
   "id": "ec28bc51",
   "metadata": {
    "hidden": true
   },
   "source": [
    "\\begin{align}\n",
    "E(x) &= \\frac{1}{\\lambda}\\\\\n",
    "Var(x) &= \\frac{1}{\\lambda^2}\n",
    "\\end{align}"
   ]
  },
  {
   "cell_type": "markdown",
   "id": "2f3fc9e1",
   "metadata": {
    "hidden": true
   },
   "source": [
    "To simulate, use `np.random.exponential`"
   ]
  },
  {
   "cell_type": "code",
   "execution_count": 61,
   "id": "a5929d9f",
   "metadata": {
    "hidden": true
   },
   "outputs": [
    {
     "data": {
      "text/plain": [
       "<matplotlib.lines.Line2D at 0x7fc63595efd0>"
      ]
     },
     "execution_count": 61,
     "metadata": {},
     "output_type": "execute_result"
    },
    {
     "data": {
      "image/png": "[encoded data removed]",
      "text/plain": [
       "<Figure size 432x288 with 1 Axes>"
      ]
     },
     "metadata": {
      "needs_background": "light"
     },
     "output_type": "display_data"
    }
   ],
   "source": [
    "import math\n",
    "lam = 2\n",
    "exp = np.random.exponential(lam, 10000)\n",
    "plt.hist(exp, bins=math.ceil(max(exp)))\n",
    "plt.axvline(x=lam, c='red')"
   ]
  },
  {
   "cell_type": "markdown",
   "id": "87862e1b",
   "metadata": {},
   "source": [
    "# Poisson (again)"
   ]
  },
  {
   "cell_type": "markdown",
   "id": "dfeb31fd",
   "metadata": {},
   "source": [
    "Count how many events have occurred by time $t$"
   ]
  },
  {
   "cell_type": "markdown",
   "id": "68583571",
   "metadata": {},
   "source": [
    "Probability that $n$ events occur by time $t$\n",
    "\n",
    "\\begin{align}\n",
    "P_{0n}(t) = \\frac{(\\lambda t)^n}{n!}e^{-\\lambda t}\n",
    "\\end{align}"
   ]
  },
  {
   "cell_type": "code",
   "execution_count": 65,
   "id": "5097abc4",
   "metadata": {},
   "outputs": [
    {
     "data": {
      "text/plain": [
       "(array([ 1.,  1.,  3.,  6.,  9., 10., 12.,  9.,  7.,  2.]),\n",
       " array([ 70. ,  75.2,  80.4,  85.6,  90.8,  96. , 101.2, 106.4, 111.6,\n",
       "        116.8, 122. ]),\n",
       " <BarContainer object of 10 artists>)"
      ]
     },
     "execution_count": 65,
     "metadata": {},
     "output_type": "execute_result"
    },
    {
     "data": {
      "image/png": "[encoded data removed]",
      "text/plain": [
       "<Figure size 432x288 with 1 Axes>"
      ]
     },
     "metadata": {
      "needs_background": "light"
     },
     "output_type": "display_data"
    }
   ],
   "source": [
    "lam = 10 # in 60 sec\n",
    "poi = np.random.poisson(lam=lam, size=60)\n",
    "plt.hist(poi)\n"
   ]
  },
  {
   "cell_type": "code",
   "execution_count": 78,
   "id": "937c3454",
   "metadata": {},
   "outputs": [
    {
     "data": {
      "text/plain": [
       "array([ 1.33665421,  5.62053561, 31.48852393, 28.20109456,  4.38438978,\n",
       "        9.79355352,  9.05407224,  8.02116919,  1.62607495,  0.05037173])"
      ]
     },
     "execution_count": 78,
     "metadata": {},
     "output_type": "execute_result"
    }
   ],
   "source": [
    "exp = np.random.exponential(scale=10, size=10)\n",
    "\n",
    "exp"
   ]
  },
  {
   "cell_type": "code",
   "execution_count": 79,
   "id": "d99d4edd",
   "metadata": {},
   "outputs": [
    {
     "data": {
      "text/plain": [
       "99.57643971091584"
      ]
     },
     "execution_count": 79,
     "metadata": {},
     "output_type": "execute_result"
    }
   ],
   "source": [
    "sum(exp)"
   ]
  },
  {
   "cell_type": "code",
   "execution_count": 98,
   "id": "743a8b23",
   "metadata": {},
   "outputs": [],
   "source": [
    "from numpy.random import default_rng\n",
    "\n",
    "# https://numpy.org/doc/stable/reference/random/generator.html#numpy.random.Generator"
   ]
  },
  {
   "cell_type": "code",
   "execution_count": 96,
   "id": "9397c493",
   "metadata": {},
   "outputs": [],
   "source": [
    "# Get a new instance of a `Generator`\n",
    "\n",
    "rng = default_rng(seed=42)"
   ]
  },
  {
   "cell_type": "code",
   "execution_count": 99,
   "id": "5873c5c0",
   "metadata": {},
   "outputs": [
    {
     "data": {
      "text/plain": [
       "array(['cd', 'ef', 'cd', 'ef', 'cd', 'ab', 'ef', 'ef', 'ab', 'ef'],\n",
       "      dtype='<U2')"
      ]
     },
     "execution_count": 99,
     "metadata": {},
     "output_type": "execute_result"
    }
   ],
   "source": [
    "rng.choice(['ab', 'cd', 'ef'], 10)"
   ]
  },
  {
   "cell_type": "code",
   "execution_count": 94,
   "id": "5e046d0b",
   "metadata": {
    "collapsed": true
   },
   "outputs": [
    {
     "data": {
      "text/plain": [
       "array([24.04208604, 23.36189656, 23.84761   ,  2.7979429 ,  0.864374  ,\n",
       "       14.52660516, 14.09960694, 31.24295957,  0.79294197, 10.46560847,\n",
       "        0.70436307, 10.89023628, 17.31327353,  3.86894825, 12.31585663,\n",
       "        1.53773254,  0.91577267,  3.15179202,  9.01199275,  4.1298533 ,\n",
       "       12.4738595 ,  2.23576372, 18.37970264, 12.27085863,  6.55796154,\n",
       "        4.17086706,  4.53319689,  0.77077147,  1.79632254,  6.85320452,\n",
       "        3.88680236, 12.64206858,  7.08490627,  2.37929954,  4.61088336,\n",
       "        6.41556737,  3.43833361,  3.21911221,  8.78914682,  2.96947209,\n",
       "       13.33702425, 13.90863986, 10.84082928,  0.73028348, 11.34067502,\n",
       "       13.54337988, 11.22039651,  2.8004912 ,  3.20936191,  1.65735907,\n",
       "        3.54363513,  0.21139756,  1.67356396, 13.15056845, 39.95756271,\n",
       "        5.63538092,  2.84039702,  3.97756254,  3.61342223,  1.29633603,\n",
       "       10.83325135, 13.75848854, 15.07809131, 53.09882796, 21.06660235,\n",
       "       16.4486584 , 10.43491482,  5.92524199,  0.44453556,  9.56602787,\n",
       "        6.21383087, 15.07961375, 20.28001581,  3.32068815,  0.49750721,\n",
       "        9.24822235, 25.534194  ,  8.21071597, 21.30942886,  7.53014745,\n",
       "       13.13994048,  2.88782995,  1.34417251,  1.42480833,  1.17682318,\n",
       "        0.54673119, 17.16593191,  4.48614999,  3.86131263,  9.34959335,\n",
       "        1.87267455, 19.18292442, 12.91956039,  3.29242196,  2.00591814,\n",
       "        5.31019609,  3.0483087 ,  0.75738699,  5.03559798, 22.51878565])"
      ]
     },
     "execution_count": 94,
     "metadata": {},
     "output_type": "execute_result"
    }
   ],
   "source": [
    "# scale = num time units between event\n",
    "# size = number of events to simulate\n",
    "rng.exponential(scale=10, size=100)"
   ]
  },
  {
   "cell_type": "code",
   "execution_count": 97,
   "id": "76f1b3ab",
   "metadata": {
    "collapsed": true
   },
   "outputs": [
    {
     "data": {
      "text/plain": [
       "array([24.04208604, 23.36189656, 23.84761   ,  2.7979429 ,  0.864374  ,\n",
       "       14.52660516, 14.09960694, 31.24295957,  0.79294197, 10.46560847,\n",
       "        0.70436307, 10.89023628, 17.31327353,  3.86894825, 12.31585663,\n",
       "        1.53773254,  0.91577267,  3.15179202,  9.01199275,  4.1298533 ,\n",
       "       12.4738595 ,  2.23576372, 18.37970264, 12.27085863,  6.55796154,\n",
       "        4.17086706,  4.53319689,  0.77077147,  1.79632254,  6.85320452,\n",
       "        3.88680236, 12.64206858,  7.08490627,  2.37929954,  4.61088336,\n",
       "        6.41556737,  3.43833361,  3.21911221,  8.78914682,  2.96947209,\n",
       "       13.33702425, 13.90863986, 10.84082928,  0.73028348, 11.34067502,\n",
       "       13.54337988, 11.22039651,  2.8004912 ,  3.20936191,  1.65735907,\n",
       "        3.54363513,  0.21139756,  1.67356396, 13.15056845, 39.95756271,\n",
       "        5.63538092,  2.84039702,  3.97756254,  3.61342223,  1.29633603,\n",
       "       10.83325135, 13.75848854, 15.07809131, 53.09882796, 21.06660235,\n",
       "       16.4486584 , 10.43491482,  5.92524199,  0.44453556,  9.56602787,\n",
       "        6.21383087, 15.07961375, 20.28001581,  3.32068815,  0.49750721,\n",
       "        9.24822235, 25.534194  ,  8.21071597, 21.30942886,  7.53014745,\n",
       "       13.13994048,  2.88782995,  1.34417251,  1.42480833,  1.17682318,\n",
       "        0.54673119, 17.16593191,  4.48614999,  3.86131263,  9.34959335,\n",
       "        1.87267455, 19.18292442, 12.91956039,  3.29242196,  2.00591814,\n",
       "        5.31019609,  3.0483087 ,  0.75738699,  5.03559798, 22.51878565])"
      ]
     },
     "execution_count": 97,
     "metadata": {},
     "output_type": "execute_result"
    }
   ],
   "source": [
    "rng.exponential(scale=10, size=100)"
   ]
  },
  {
   "cell_type": "code",
   "execution_count": 136,
   "id": "38975a32",
   "metadata": {},
   "outputs": [
    {
     "data": {
      "text/plain": [
       "1027"
      ]
     },
     "execution_count": 136,
     "metadata": {},
     "output_type": "execute_result"
    }
   ],
   "source": [
    "# lam = expected number of events over a time interval\n",
    "\n",
    "sum(rng.poisson(lam=1000/(60*60*10), size=60*60*10))"
   ]
  },
  {
   "cell_type": "code",
   "execution_count": 119,
   "id": "81c8cbec",
   "metadata": {},
   "outputs": [
    {
     "data": {
      "text/plain": [
       "4.93"
      ]
     },
     "execution_count": 119,
     "metadata": {},
     "output_type": "execute_result"
    }
   ],
   "source": [
    "np.mean([sum(rng.poisson(lam=.05, size=100)) for _ in range(100)])"
   ]
  },
  {
   "cell_type": "code",
   "execution_count": 130,
   "id": "cbe60353",
   "metadata": {},
   "outputs": [
    {
     "data": {
      "text/plain": [
       "36000"
      ]
     },
     "execution_count": 130,
     "metadata": {},
     "output_type": "execute_result"
    }
   ],
   "source": [
    "60 * 60 * 10"
   ]
  },
  {
   "cell_type": "code",
   "execution_count": 140,
   "id": "f81ef53d",
   "metadata": {},
   "outputs": [
    {
     "data": {
      "image/png": "[encoded data removed]",
      "text/plain": [
       "<Figure size 432x288 with 1 Axes>"
      ]
     },
     "metadata": {
      "needs_background": "light"
     },
     "output_type": "display_data"
    }
   ],
   "source": [
    "# https://numpy.org/doc/stable/reference/random/generated/numpy.random.Generator.poisson.html#numpy.random.Generator.poisson\n",
    "s = rng.poisson(5, 10000)\n",
    "count, bins, ignored = plt.hist(s, 14, density=True)\n",
    "plt.show()"
   ]
  },
  {
   "cell_type": "code",
   "execution_count": null,
   "id": "43cfb6e1",
   "metadata": {},
   "outputs": [],
   "source": []
  },
  {
   "cell_type": "code",
   "execution_count": null,
   "id": "11834af7",
   "metadata": {},
   "outputs": [],
   "source": []
  }
 ],
 "metadata": {
  "kernelspec": {
   "display_name": "Python 3 (ipykernel)",
   "language": "python",
   "name": "python3"
  },
  "language_info": {
   "codemirror_mode": {
    "name": "ipython",
    "version": 3
   },
   "file_extension": ".py",
   "mimetype": "text/x-python",
   "name": "python",
   "nbconvert_exporter": "python",
   "pygments_lexer": "ipython3",
   "version": "3.7.7"
  },
  "toc": {
   "base_numbering": 1,
   "nav_menu": {},
   "number_sections": true,
   "sideBar": true,
   "skip_h1_title": false,
   "title_cell": "Table of Contents",
   "title_sidebar": "Contents",
   "toc_cell": false,
   "toc_position": {},
   "toc_section_display": true,
   "toc_window_display": false
  },
  "varInspector": {
   "cols": {
    "lenName": 16,
    "lenType": 16,
    "lenVar": 40
   },
   "kernels_config": {
    "python": {
     "delete_cmd_postfix": "",
     "delete_cmd_prefix": "del ",
     "library": "var_list.py",
     "varRefreshCmd": "print(var_dic_list())"
    },
    "r": {
     "delete_cmd_postfix": ") ",
     "delete_cmd_prefix": "rm(",
     "library": "var_list.r",
     "varRefreshCmd": "cat(var_dic_list()) "
    }
   },
   "types_to_exclude": [
    "module",
    "function",
    "builtin_function_or_method",
    "instance",
    "_Feature"
   ],
   "window_display": false
  }
 },
 "nbformat": 4,
 "nbformat_minor": 5
}
